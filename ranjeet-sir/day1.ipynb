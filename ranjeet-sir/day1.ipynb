{
 "cells": [
  {
   "cell_type": "code",
   "execution_count": 1,
   "metadata": {},
   "outputs": [
    {
     "name": "stdout",
     "output_type": "stream",
     "text": [
      "vikas\n"
     ]
    }
   ],
   "source": [
    "print(\"vikas\")"
   ]
  },
  {
   "cell_type": "code",
   "execution_count": 3,
   "metadata": {},
   "outputs": [
    {
     "name": "stdout",
     "output_type": "stream",
     "text": [
      " name i\n"
     ]
    }
   ],
   "source": [
    "a = (\"my name is vikas\")\n",
    "print(a[2:9])"
   ]
  },
  {
   "cell_type": "code",
   "execution_count": 4,
   "metadata": {},
   "outputs": [
    {
     "name": "stdout",
     "output_type": "stream",
     "text": [
      " aei\n"
     ]
    }
   ],
   "source": [
    "a = (\"my name is vikas\")\n",
    "print(a[2:9:2])"
   ]
  },
  {
   "cell_type": "code",
   "execution_count": 5,
   "metadata": {},
   "outputs": [
    {
     "name": "stdout",
     "output_type": "stream",
     "text": [
      "mnesis\n"
     ]
    }
   ],
   "source": [
    "a = (\"my name is vikas\")\n",
    "print(a[::3])"
   ]
  },
  {
   "cell_type": "code",
   "execution_count": 6,
   "metadata": {},
   "outputs": [
    {
     "name": "stdout",
     "output_type": "stream",
     "text": [
      "ame is vikas\n"
     ]
    }
   ],
   "source": [
    "a = (\"my name is vikas\")\n",
    "print(a[4:])"
   ]
  },
  {
   "cell_type": "code",
   "execution_count": 11,
   "metadata": {},
   "outputs": [
    {
     "name": "stdout",
     "output_type": "stream",
     "text": [
      "my name i\n"
     ]
    }
   ],
   "source": [
    "a = (\"my name is vikas\")\n",
    "print(a[:9])"
   ]
  },
  {
   "cell_type": "code",
   "execution_count": 10,
   "metadata": {},
   "outputs": [
    {
     "name": "stdout",
     "output_type": "stream",
     "text": [
      "m aei \n"
     ]
    }
   ],
   "source": [
    "a = \"my name is vikas\"\n",
    "print(a[:11:2])"
   ]
  },
  {
   "cell_type": "code",
   "execution_count": 9,
   "metadata": {},
   "outputs": [
    {
     "name": "stdout",
     "output_type": "stream",
     "text": [
      "v\n",
      "i\n",
      "k\n",
      "a\n",
      "s\n"
     ]
    }
   ],
   "source": [
    "a = \"\"\"v\n",
    "i\n",
    "k\n",
    "a\n",
    "s\"\"\"\n",
    "print(a)"
   ]
  },
  {
   "cell_type": "code",
   "execution_count": 2,
   "metadata": {},
   "outputs": [
    {
     "name": "stdout",
     "output_type": "stream",
     "text": [
      "VIKAS SINGH\n"
     ]
    }
   ],
   "source": [
    "a = \"vikas singh\"\n",
    "print(a.upper())"
   ]
  },
  {
   "cell_type": "code",
   "execution_count": 3,
   "metadata": {},
   "outputs": [
    {
     "name": "stdout",
     "output_type": "stream",
     "text": [
      "My Name Is Vikas\n"
     ]
    }
   ],
   "source": [
    "a = \"my name is vikas\"\n",
    "\n",
    "print(a.title())"
   ]
  },
  {
   "cell_type": "code",
   "execution_count": 24,
   "metadata": {},
   "outputs": [
    {
     "name": "stdout",
     "output_type": "stream",
     "text": [
      "['my', 'name', 'is', 'vikas']\n"
     ]
    }
   ],
   "source": [
    "a = \"my name is vikas\"\n",
    "\n",
    "print(a.split())"
   ]
  },
  {
   "cell_type": "code",
   "execution_count": 6,
   "metadata": {},
   "outputs": [
    {
     "name": "stdout",
     "output_type": "stream",
     "text": [
      "MY NAME IS VIKAS\n"
     ]
    }
   ],
   "source": [
    "a = \"my name is vikas\"\n",
    "\n",
    "print(a.swapcase())"
   ]
  },
  {
   "cell_type": "code",
   "execution_count": 7,
   "metadata": {},
   "outputs": [
    {
     "name": "stdout",
     "output_type": "stream",
     "text": [
      "my name is vikas\n"
     ]
    }
   ],
   "source": [
    "a = \"MY NAME IS VIKAS\"\n",
    "print(a.swapcase())"
   ]
  },
  {
   "cell_type": "code",
   "execution_count": 8,
   "metadata": {},
   "outputs": [
    {
     "name": "stdout",
     "output_type": "stream",
     "text": [
      "Vikas singh\n"
     ]
    }
   ],
   "source": [
    "a = \"vikas singh\"\n",
    "print(a.capitalize())"
   ]
  },
  {
   "cell_type": "code",
   "execution_count": 9,
   "metadata": {},
   "outputs": [
    {
     "name": "stdout",
     "output_type": "stream",
     "text": [
      "KAS SI\n"
     ]
    }
   ],
   "source": [
    "a = \"vikas singh\"\n",
    "print(a.upper()[2:8])"
   ]
  },
  {
   "cell_type": "code",
   "execution_count": 10,
   "metadata": {},
   "outputs": [
    {
     "name": "stdout",
     "output_type": "stream",
     "text": [
      "IA IG\n"
     ]
    }
   ],
   "source": [
    "a = \"vikas singh\"\n",
    "print(a.upper()[1:10:2])"
   ]
  },
  {
   "cell_type": "code",
   "execution_count": 22,
   "metadata": {},
   "outputs": [
    {
     "name": "stdout",
     "output_type": "stream",
     "text": [
      "11\n",
      "g\n"
     ]
    }
   ],
   "source": [
    "a = (\"vikas singh\")\n",
    "print(len(a))\n",
    "print (a[9])"
   ]
  },
  {
   "cell_type": "code",
   "execution_count": 29,
   "metadata": {},
   "outputs": [
    {
     "name": "stdout",
     "output_type": "stream",
     "text": [
      "4\n"
     ]
    }
   ],
   "source": [
    "\n",
    "a = \"vikas\"\n",
    "print(a.find('s'))"
   ]
  },
  {
   "cell_type": "code",
   "execution_count": 4,
   "metadata": {},
   "outputs": [
    {
     "name": "stdout",
     "output_type": "stream",
     "text": [
      "['a', 'b', 'c', 'd', 'e', 'f', 'g', 'h']\n"
     ]
    }
   ],
   "source": [
    "ls = [\"a\",\"b\",\"c\",\"d\",\"e\",\"f\",\"g\",\"h\"]\n",
    "print(ls)"
   ]
  },
  {
   "cell_type": "code",
   "execution_count": 5,
   "metadata": {},
   "outputs": [
    {
     "name": "stdout",
     "output_type": "stream",
     "text": [
      "f\n"
     ]
    }
   ],
   "source": [
    "print(ls[5])"
   ]
  },
  {
   "cell_type": "code",
   "execution_count": 6,
   "metadata": {},
   "outputs": [
    {
     "name": "stdout",
     "output_type": "stream",
     "text": [
      "['a', 'b', 'c', 'd', ['i', 'j', 'k', 'l'], 'e', 'f', 'g', 'h']\n"
     ]
    }
   ],
   "source": [
    "ls = [\"a\",\"b\",\"c\",\"d\",[\"i\",\"j\",\"k\",\"l\"],\"e\",\"f\",\"g\",\"h\"]\n",
    "print(ls)"
   ]
  },
  {
   "cell_type": "code",
   "execution_count": 13,
   "metadata": {},
   "outputs": [
    {
     "name": "stdout",
     "output_type": "stream",
     "text": [
      "k\n"
     ]
    }
   ],
   "source": [
    "print(ls[4][2])"
   ]
  },
  {
   "cell_type": "code",
   "execution_count": 50,
   "metadata": {},
   "outputs": [
    {
     "name": "stdout",
     "output_type": "stream",
     "text": [
      "['a', 'b', 'c', 'd']\n",
      "['a', 'b', 'z', 'c', 'd']\n",
      "['a', 'b', 'z', 'c']\n",
      "['a', 'b', 'c']\n",
      "['a', 'b', 'c']\n"
     ]
    }
   ],
   "source": [
    "ls1 = ['a','b','c','d']\n",
    "print(ls1)\n",
    "ls1.insert(2,'z')\n",
    "print(ls1)\n",
    "ls1.pop()\n",
    "print(ls1)\n",
    "ls1 = ['a','b','c','d']\n",
    "ls1.remove('d')\n",
    "print(ls1)\n",
    "ls1 = ['a','b','c','d']\n",
    "del(ls1[3])\n",
    "print(ls1)"
   ]
  },
  {
   "cell_type": "code",
   "execution_count": 30,
   "metadata": {},
   "outputs": [
    {
     "name": "stdout",
     "output_type": "stream",
     "text": [
      "[85, 96, 54, 5, 85, 69, 2]\n",
      "[2, 5, 54, 69, 85, 85, 96]\n",
      "[96, 85, 85, 69, 54, 5, 2]\n"
     ]
    }
   ],
   "source": [
    "ls2 = [85,96,54,5,85,69,2]\n",
    "print(ls2)\n",
    "ls2.sort()\n",
    "print(ls2)\n",
    "print(ls2[::-1])"
   ]
  },
  {
   "cell_type": "code",
   "execution_count": 46,
   "metadata": {},
   "outputs": [
    {
     "name": "stdout",
     "output_type": "stream",
     "text": [
      "[85, 96, 54, 5, 85, 69, 2, 'RADHEY', 'UPFLAIRS']\n",
      "[85, 96, 54, 5, 85, 69, 2, 'radhe', 'UPFLAIRS']\n"
     ]
    },
    {
     "data": {
      "text/plain": [
       "'AIR'"
      ]
     },
     "execution_count": 46,
     "metadata": {},
     "output_type": "execute_result"
    }
   ],
   "source": [
    "ls2 = [85,96,54,5,85,69,2]\n",
    "ls3 = [\"RADHEY\",\"UPFLAIRS\"]\n",
    "\n",
    "ls2.extend(ls3)\n",
    "print(ls2)\n",
    "ls2[7] = 'radhe'\n",
    "print(ls2)\n",
    "ls2[8][4:7]"
   ]
  }
 ],
 "metadata": {
  "kernelspec": {
   "display_name": "Python 3",
   "language": "python",
   "name": "python3"
  },
  "language_info": {
   "codemirror_mode": {
    "name": "ipython",
    "version": 3
   },
   "file_extension": ".py",
   "mimetype": "text/x-python",
   "name": "python",
   "nbconvert_exporter": "python",
   "pygments_lexer": "ipython3",
   "version": "3.10.12"
  },
  "orig_nbformat": 4
 },
 "nbformat": 4,
 "nbformat_minor": 2
}
